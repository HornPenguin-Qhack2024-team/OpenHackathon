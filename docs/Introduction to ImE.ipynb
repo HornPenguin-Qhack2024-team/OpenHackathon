{
 "cells": [
  {
   "cell_type": "markdown",
   "metadata": {},
   "source": [
    "# Introduction to Imaginary Evolution\n",
    "\n",
    "draft: Hyunseong Kim"
   ]
  },
  {
   "cell_type": "markdown",
   "metadata": {},
   "source": [
    "From the time dependence Schrodinger equation,\n",
    "\n",
    "$$i \\hbar \\frac{\\partial \\psi(x, t)}{\\partial t} = \\hat{H} \\psi(x, t)$$\n",
    "\n",
    "where, $x, t \\in \\mathbb{R}$. The solution becomes\n",
    "\n",
    "Adiabatic solution and VQE methods could be used to find a ground state of the given system.\n",
    "\n",
    "The word *imaginary* means that the time parameter is $\\tau = (i t )\\in \\mathbb{C}$\n",
    "\n",
    "$$- \\hbar \\frac{\\partial \\psi(x, \\tau)}{\\partial \\tau} = \\hat{H} \\psi(x, \\tau)$$"
   ]
  }
 ],
 "metadata": {
  "language_info": {
   "name": "python"
  }
 },
 "nbformat": 4,
 "nbformat_minor": 2
}
