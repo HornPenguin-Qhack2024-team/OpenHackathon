{
 "cells": [
  {
   "cell_type": "code",
   "execution_count": null,
   "metadata": {},
   "outputs": [],
   "source": [
    "!pip install networkx pennylane pandas matplotlib"
   ]
  },
  {
   "cell_type": "code",
   "execution_count": 1,
   "metadata": {},
   "outputs": [
    {
     "name": "stderr",
     "output_type": "stream",
     "text": [
      "/var/folders/wv/cwvgxcp14lxcs5jn0r6p87sr0000gn/T/ipykernel_3761/616370124.py:3: DeprecationWarning: \n",
      "Pyarrow will become a required dependency of pandas in the next major release of pandas (pandas 3.0),\n",
      "(to allow more performant data types, such as the Arrow string type, and better interoperability with other libraries)\n",
      "but was not found to be installed on your system.\n",
      "If this would cause problems for you,\n",
      "please provide us feedback at https://github.com/pandas-dev/pandas/issues/54466\n",
      "        \n",
      "  import pandas as pd\n"
     ]
    }
   ],
   "source": [
    "import networkx as nx\n",
    "import numpy as np\n",
    "import pandas as pd\n",
    "import matplotlib.pyplot as plt\n",
    "\n",
    "from adiaframe import Hamiltonian\n",
    "#from adiaframe import utils_c as uc"
   ]
  },
  {
   "cell_type": "code",
   "execution_count": 2,
   "metadata": {},
   "outputs": [
    {
     "name": "stdout",
     "output_type": "stream",
     "text": [
      "[-0.5 -0.5 -0.5  1.   1.   1. ]\n",
      "[[ 3. +0.j  0. +0.j  0. +0.j -0.5+0.j  0. +0.j -0.5+0.j -0.5+0.j  0. +0.j]\n",
      " [ 0. +0.j  3. +0.j -0.5+0.j  0. +0.j -0.5+0.j  0. +0.j  0. +0.j -0.5+0.j]\n",
      " [ 0. +0.j -0.5+0.j -3. +0.j  0. +0.j -0.5+0.j  0. +0.j  0. +0.j -0.5+0.j]\n",
      " [-0.5+0.j  0. +0.j  0. +0.j -3. +0.j  0. +0.j -0.5+0.j -0.5+0.j  0. +0.j]\n",
      " [ 0. +0.j -0.5+0.j -0.5+0.j  0. +0.j -3. +0.j  0. +0.j  0. +0.j -0.5+0.j]\n",
      " [-0.5+0.j  0. +0.j  0. +0.j -0.5+0.j  0. +0.j -3. +0.j -0.5+0.j  0. +0.j]\n",
      " [-0.5+0.j  0. +0.j  0. +0.j -0.5+0.j  0. +0.j -0.5+0.j  3. +0.j  0. +0.j]\n",
      " [ 0. +0.j -0.5+0.j -0.5+0.j  0. +0.j -0.5+0.j  0. +0.j  0. +0.j  3. +0.j]]\n"
     ]
    }
   ],
   "source": [
    "#Build your custom Hamiltonian with\n",
    "import pennylane as qml\n",
    "\n",
    "# 2 sites XXZ spin-1/2 chain (PBC)\n",
    "\n",
    "coeffs_X = -0.5*np.ones(3)\n",
    "coeffs_Z = np.ones(3)\n",
    "coeffs = np.concatenate([coeffs_X, coeffs_Z])\n",
    "\n",
    "print(coeffs)\n",
    "ops = [qml.PauliX(0) @ qml.PauliX(1), qml.PauliX(1) @ qml.PauliX(2), qml.PauliX(2) @ qml.PauliX(0),\n",
    "    qml.PauliZ(0) @ qml.PauliZ(1), qml.PauliZ(0) @ qml.PauliZ(1), qml.PauliZ(0) @ qml.PauliZ(1)]\n",
    "\n",
    "H_XXZ = qml.Hamiltonian(coeffs, ops) \n",
    "H_XXZ = np.matrix(qml.matrix(H_XXZ))\n",
    "print(H_XXZ)\n",
    "#H = #np.array(...) 2D matrix\n",
    "hamiltonian = Hamiltonian(H_XXZ, commute_map=True)\n",
    "# or \n",
    "# pauli_sample = {\"Pstring\": coefficient, ...}\n",
    "# H = Hamiltonian.p_poly_to_H(pauli_sample)\n",
    "# hamiltonian = Hamiltonian(H, pauli_basis=pauli_sample, commute_map=True)"
   ]
  },
  {
   "cell_type": "code",
   "execution_count": 3,
   "metadata": {},
   "outputs": [
    {
     "data": {
      "text/html": [
       "<div>\n",
       "<style scoped>\n",
       "    .dataframe tbody tr th:only-of-type {\n",
       "        vertical-align: middle;\n",
       "    }\n",
       "\n",
       "    .dataframe tbody tr th {\n",
       "        vertical-align: top;\n",
       "    }\n",
       "\n",
       "    .dataframe thead th {\n",
       "        text-align: right;\n",
       "    }\n",
       "</style>\n",
       "<table border=\"1\" class=\"dataframe\">\n",
       "  <thead>\n",
       "    <tr style=\"text-align: right;\">\n",
       "      <th></th>\n",
       "      <th>Pstring</th>\n",
       "      <th>type</th>\n",
       "      <th>Z</th>\n",
       "      <th>X</th>\n",
       "      <th>Coef</th>\n",
       "    </tr>\n",
       "  </thead>\n",
       "  <tbody>\n",
       "    <tr>\n",
       "      <th>0</th>\n",
       "      <td>ZZI</td>\n",
       "      <td>0</td>\n",
       "      <td>6</td>\n",
       "      <td>0</td>\n",
       "      <td>3.0+0.0j</td>\n",
       "    </tr>\n",
       "    <tr>\n",
       "      <th>1</th>\n",
       "      <td>IXX</td>\n",
       "      <td>1</td>\n",
       "      <td>0</td>\n",
       "      <td>3</td>\n",
       "      <td>-0.5+0.0j</td>\n",
       "    </tr>\n",
       "    <tr>\n",
       "      <th>2</th>\n",
       "      <td>XIX</td>\n",
       "      <td>1</td>\n",
       "      <td>0</td>\n",
       "      <td>5</td>\n",
       "      <td>-0.5+0.0j</td>\n",
       "    </tr>\n",
       "    <tr>\n",
       "      <th>3</th>\n",
       "      <td>XXI</td>\n",
       "      <td>1</td>\n",
       "      <td>0</td>\n",
       "      <td>6</td>\n",
       "      <td>-0.5+0.0j</td>\n",
       "    </tr>\n",
       "  </tbody>\n",
       "</table>\n",
       "</div>"
      ],
      "text/plain": [
       "  Pstring  type  Z  X      Coef\n",
       "0     ZZI     0  6  0  3.0+0.0j\n",
       "1     IXX     1  0  3 -0.5+0.0j\n",
       "2     XIX     1  0  5 -0.5+0.0j\n",
       "3     XXI     1  0  6 -0.5+0.0j"
      ]
     },
     "execution_count": 3,
     "metadata": {},
     "output_type": "execute_result"
    }
   ],
   "source": [
    "# See Pauli term and their coefficient:\n",
    "hamiltonian.local_decomposition.tail(10)"
   ]
  },
  {
   "cell_type": "code",
   "execution_count": 4,
   "metadata": {},
   "outputs": [],
   "source": [
    "#hamiltonian.local_decomposition.pivot(index=\"X\", columns=\"Z\", values=\"Coef\")"
   ]
  },
  {
   "cell_type": "markdown",
   "metadata": {},
   "source": [
    "The below properties are automatically generated."
   ]
  },
  {
   "cell_type": "code",
   "execution_count": 5,
   "metadata": {},
   "outputs": [
    {
     "data": {
      "text/html": [
       "<div>\n",
       "<style scoped>\n",
       "    .dataframe tbody tr th:only-of-type {\n",
       "        vertical-align: middle;\n",
       "    }\n",
       "\n",
       "    .dataframe tbody tr th {\n",
       "        vertical-align: top;\n",
       "    }\n",
       "\n",
       "    .dataframe thead th {\n",
       "        text-align: right;\n",
       "    }\n",
       "</style>\n",
       "<table border=\"1\" class=\"dataframe\">\n",
       "  <thead>\n",
       "    <tr style=\"text-align: right;\">\n",
       "      <th></th>\n",
       "      <th>source</th>\n",
       "      <th>target</th>\n",
       "      <th>Zs</th>\n",
       "      <th>Xs</th>\n",
       "      <th>Zt</th>\n",
       "      <th>Xt</th>\n",
       "      <th>commute</th>\n",
       "    </tr>\n",
       "  </thead>\n",
       "  <tbody>\n",
       "    <tr>\n",
       "      <th>0</th>\n",
       "      <td>ZZI</td>\n",
       "      <td>IXX</td>\n",
       "      <td>6</td>\n",
       "      <td>0</td>\n",
       "      <td>0</td>\n",
       "      <td>3</td>\n",
       "      <td>0</td>\n",
       "    </tr>\n",
       "    <tr>\n",
       "      <th>1</th>\n",
       "      <td>ZZI</td>\n",
       "      <td>XIX</td>\n",
       "      <td>6</td>\n",
       "      <td>0</td>\n",
       "      <td>0</td>\n",
       "      <td>5</td>\n",
       "      <td>0</td>\n",
       "    </tr>\n",
       "    <tr>\n",
       "      <th>2</th>\n",
       "      <td>ZZI</td>\n",
       "      <td>XXI</td>\n",
       "      <td>6</td>\n",
       "      <td>0</td>\n",
       "      <td>0</td>\n",
       "      <td>6</td>\n",
       "      <td>1</td>\n",
       "    </tr>\n",
       "    <tr>\n",
       "      <th>3</th>\n",
       "      <td>IXX</td>\n",
       "      <td>XIX</td>\n",
       "      <td>0</td>\n",
       "      <td>3</td>\n",
       "      <td>0</td>\n",
       "      <td>5</td>\n",
       "      <td>1</td>\n",
       "    </tr>\n",
       "    <tr>\n",
       "      <th>4</th>\n",
       "      <td>IXX</td>\n",
       "      <td>XXI</td>\n",
       "      <td>0</td>\n",
       "      <td>3</td>\n",
       "      <td>0</td>\n",
       "      <td>6</td>\n",
       "      <td>1</td>\n",
       "    </tr>\n",
       "    <tr>\n",
       "      <th>5</th>\n",
       "      <td>XIX</td>\n",
       "      <td>XXI</td>\n",
       "      <td>0</td>\n",
       "      <td>5</td>\n",
       "      <td>0</td>\n",
       "      <td>6</td>\n",
       "      <td>1</td>\n",
       "    </tr>\n",
       "  </tbody>\n",
       "</table>\n",
       "</div>"
      ],
      "text/plain": [
       "  source target  Zs  Xs  Zt  Xt  commute\n",
       "0    ZZI    IXX   6   0   0   3        0\n",
       "1    ZZI    XIX   6   0   0   5        0\n",
       "2    ZZI    XXI   6   0   0   6        1\n",
       "3    IXX    XIX   0   3   0   5        1\n",
       "4    IXX    XXI   0   3   0   6        1\n",
       "5    XIX    XXI   0   5   0   6        1"
      ]
     },
     "execution_count": 5,
     "metadata": {},
     "output_type": "execute_result"
    }
   ],
   "source": [
    "hamiltonian.commute_map"
   ]
  },
  {
   "cell_type": "code",
   "execution_count": 6,
   "metadata": {},
   "outputs": [
    {
     "data": {
      "text/html": [
       "<div>\n",
       "<style scoped>\n",
       "    .dataframe tbody tr th:only-of-type {\n",
       "        vertical-align: middle;\n",
       "    }\n",
       "\n",
       "    .dataframe tbody tr th {\n",
       "        vertical-align: top;\n",
       "    }\n",
       "\n",
       "    .dataframe thead th {\n",
       "        text-align: right;\n",
       "    }\n",
       "</style>\n",
       "<table border=\"1\" class=\"dataframe\">\n",
       "  <thead>\n",
       "    <tr style=\"text-align: right;\">\n",
       "      <th></th>\n",
       "      <th>source</th>\n",
       "      <th>target</th>\n",
       "      <th>Zs</th>\n",
       "      <th>Xs</th>\n",
       "      <th>Zt</th>\n",
       "      <th>Xt</th>\n",
       "      <th>commute</th>\n",
       "    </tr>\n",
       "  </thead>\n",
       "  <tbody>\n",
       "    <tr>\n",
       "      <th>0</th>\n",
       "      <td>ZZI</td>\n",
       "      <td>IXX</td>\n",
       "      <td>6</td>\n",
       "      <td>0</td>\n",
       "      <td>0</td>\n",
       "      <td>3</td>\n",
       "      <td>0</td>\n",
       "    </tr>\n",
       "    <tr>\n",
       "      <th>1</th>\n",
       "      <td>ZZI</td>\n",
       "      <td>XIX</td>\n",
       "      <td>6</td>\n",
       "      <td>0</td>\n",
       "      <td>0</td>\n",
       "      <td>5</td>\n",
       "      <td>0</td>\n",
       "    </tr>\n",
       "    <tr>\n",
       "      <th>2</th>\n",
       "      <td>ZZI</td>\n",
       "      <td>XXI</td>\n",
       "      <td>6</td>\n",
       "      <td>0</td>\n",
       "      <td>0</td>\n",
       "      <td>6</td>\n",
       "      <td>1</td>\n",
       "    </tr>\n",
       "    <tr>\n",
       "      <th>3</th>\n",
       "      <td>IXX</td>\n",
       "      <td>XIX</td>\n",
       "      <td>0</td>\n",
       "      <td>3</td>\n",
       "      <td>0</td>\n",
       "      <td>5</td>\n",
       "      <td>1</td>\n",
       "    </tr>\n",
       "    <tr>\n",
       "      <th>4</th>\n",
       "      <td>IXX</td>\n",
       "      <td>XXI</td>\n",
       "      <td>0</td>\n",
       "      <td>3</td>\n",
       "      <td>0</td>\n",
       "      <td>6</td>\n",
       "      <td>1</td>\n",
       "    </tr>\n",
       "    <tr>\n",
       "      <th>5</th>\n",
       "      <td>XIX</td>\n",
       "      <td>XXI</td>\n",
       "      <td>0</td>\n",
       "      <td>5</td>\n",
       "      <td>0</td>\n",
       "      <td>6</td>\n",
       "      <td>1</td>\n",
       "    </tr>\n",
       "  </tbody>\n",
       "</table>\n",
       "</div>"
      ],
      "text/plain": [
       "  source target  Zs  Xs  Zt  Xt  commute\n",
       "0    ZZI    IXX   6   0   0   3        0\n",
       "1    ZZI    XIX   6   0   0   5        0\n",
       "2    ZZI    XXI   6   0   0   6        1\n",
       "3    IXX    XIX   0   3   0   5        1\n",
       "4    IXX    XXI   0   3   0   6        1\n",
       "5    XIX    XXI   0   5   0   6        1"
      ]
     },
     "execution_count": 6,
     "metadata": {},
     "output_type": "execute_result"
    }
   ],
   "source": [
    "hamiltonian.graph_edge"
   ]
  },
  {
   "cell_type": "code",
   "execution_count": 7,
   "metadata": {},
   "outputs": [],
   "source": [
    "#hamiltonian.latin_matrix # error\n",
    "# See Latin matrix\n",
    "#fig, ax = plt.subplots(1,1, figsize=(10, 10))\n",
    "#ax.spy(hamiltonian.latin_matrix, markersize=10)\n",
    "#ax.set_xlabel(\"Z family\")\n",
    "#ax.xaxis.set_label_position('top') \n",
    "#ax.set_ylabel(\"X family\")"
   ]
  },
  {
   "cell_type": "code",
   "execution_count": 8,
   "metadata": {},
   "outputs": [],
   "source": [
    "from adiaframe import graph_op\n",
    "from copy import deepcopy\n",
    "from networkx.algorithms.approximation import max_clique \n",
    "# It only works for binary graph indicating commuting map."
   ]
  },
  {
   "cell_type": "code",
   "execution_count": 9,
   "metadata": {},
   "outputs": [],
   "source": [
    "G_b = graph_op.get_binary_graph(hamiltonian) # get commuting graph"
   ]
  },
  {
   "cell_type": "code",
   "execution_count": 10,
   "metadata": {},
   "outputs": [],
   "source": [
    "g_classic = deepcopy(G_b)\n",
    "max_cliques = []\n",
    "while len(g_classic.nodes) >0:\n",
    "    clique = max_clique(g_classic)\n",
    "    max_cliques.append(clique)\n",
    "    for node in clique:\n",
    "        g_classic.remove_node(node)"
   ]
  },
  {
   "cell_type": "code",
   "execution_count": 11,
   "metadata": {},
   "outputs": [
    {
     "name": "stdout",
     "output_type": "stream",
     "text": [
      "Classic Clique solver:\n",
      "Partition: 2\n",
      "2, 2, ============================================\n",
      "{'IXX', 'XIX'}\n",
      "{'ZZI', 'XXI'}\n"
     ]
    }
   ],
   "source": [
    "print(\"Classic Clique solver:\")\n",
    "print(\"Partition:\", len(max_cliques))\n",
    "for c in max_cliques:\n",
    "    print(len(c), end=\", \")\n",
    "print(\"============================================\")\n",
    "for c in max_cliques:\n",
    "    print(c)"
   ]
  },
  {
   "cell_type": "code",
   "execution_count": 12,
   "metadata": {},
   "outputs": [
    {
     "data": {
      "text/plain": [
       "0.5385164807134504"
      ]
     },
     "execution_count": 12,
     "metadata": {},
     "output_type": "execute_result"
    }
   ],
   "source": [
    "np.abs(complex(0.5,0.2))"
   ]
  },
  {
   "cell_type": "code",
   "execution_count": 13,
   "metadata": {},
   "outputs": [],
   "source": [
    "from adiaframe.utils import evolve_circuit"
   ]
  },
  {
   "cell_type": "code",
   "execution_count": 14,
   "metadata": {},
   "outputs": [],
   "source": [
    "wires = hamiltonian.qubit_num # number of qubits\n",
    "dev = qml.device('default.qubit', wires=wires+1, shots=1000)"
   ]
  },
  {
   "cell_type": "code",
   "execution_count": 29,
   "metadata": {},
   "outputs": [],
   "source": [
    "@qml.qnode(dev)\n",
    "@qml.defer_measurements\n",
    "def evolve_hamiltonian(h:Hamiltonian, max_cliques:list, t:float):\n",
    "    for i in range(wires):\n",
    "        qml.Hadamard(i)\n",
    "    qml.Barrier(wires=range(wires))\n",
    "    i=0\n",
    "    m0 = 0\n",
    "    for c in max_cliques:\n",
    "        for p in c:\n",
    "            coef = h.local_decomposition.loc[h.local_decomposition[\"Pstring\"] == p][\"Coef\"]\n",
    "            m0 = evolve_circuit(p,i%wires, float(coef),t,\n",
    "                True #imaginary\n",
    "            )\n",
    "            print(m0)\n",
    "            if m0 == 1:\n",
    "                print(\"Failed\")\n",
    "                break\n",
    "            i+=1\n",
    "        if m0==1:\n",
    "            break\n",
    "    hermit = qml.Hermitian(h.Hamiltonian, wires=range(wires))\n",
    "    return qml.expval(hermit)\n",
    "\n",
    "\n"
   ]
  },
  {
   "cell_type": "code",
   "execution_count": 44,
   "metadata": {},
   "outputs": [],
   "source": [
    "@qml.qnode(dev)\n",
    "#@qml.defer_measurements\n",
    "def test():\n",
    "    qml.PauliX(1)\n",
    "    qml.Hadamard(2)\n",
    "    m0 = qml.measure(qml.PauliZ(0))\n",
    "    m1 = qml.measure(qml.PauliZ(1))\n",
    "    m2 = qml.measure(qml.PauliZ(2))\n",
    "    print(m0)\n",
    "    print(m1)\n",
    "    print(m2)\n",
    "    return qml.expval(qml.PauliZ(0))"
   ]
  },
  {
   "cell_type": "code",
   "execution_count": 45,
   "metadata": {},
   "outputs": [
    {
     "name": "stdout",
     "output_type": "stream",
     "text": [
      "if 9a028afe=0 => 0\n",
      "if 9a028afe=1 => 1\n",
      "if bd663548=0 => 0\n",
      "if bd663548=1 => 1\n",
      "if b2b1056e=0 => 0\n",
      "if b2b1056e=1 => 1\n"
     ]
    },
    {
     "name": "stderr",
     "output_type": "stream",
     "text": [
      "/Users/hyunseongkim/miniconda3/envs/quantum_computer/lib/python3.11/site-packages/pennylane/operation.py:736: UserWarning: The behaviour of operator hashing will be updated soon. Currently, each operator instance has a unique hash. Soon, an operator's hash will be determined by the combined hash of the name, wires, parameters and hyperparameters of the operator. To continue using operator hashing in its current state, wrap the operator inside a qml.queuing.WrappedObj instance.\n",
      "  warnings.warn(\n"
     ]
    },
    {
     "data": {
      "text/plain": [
       "tensor(1., requires_grad=True)"
      ]
     },
     "execution_count": 45,
     "metadata": {},
     "output_type": "execute_result"
    }
   ],
   "source": [
    "test()"
   ]
  },
  {
   "cell_type": "code",
   "execution_count": 30,
   "metadata": {},
   "outputs": [],
   "source": [
    "t = 0.1"
   ]
  },
  {
   "cell_type": "code",
   "execution_count": 31,
   "metadata": {},
   "outputs": [
    {
     "name": "stdout",
     "output_type": "stream",
     "text": [
      "if 5f239d58=0 => 0\n",
      "if 5f239d58=1 => 1\n",
      "Failed\n"
     ]
    },
    {
     "name": "stderr",
     "output_type": "stream",
     "text": [
      "/var/folders/wv/cwvgxcp14lxcs5jn0r6p87sr0000gn/T/ipykernel_3761/2437783238.py:12: FutureWarning: Calling float on a single element Series is deprecated and will raise a TypeError in the future. Use float(ser.iloc[0]) instead\n",
      "  m0 = evolve_circuit(p,i%wires, float(coef),t,\n",
      "/Users/hyunseongkim/miniconda3/envs/quantum_computer/lib/python3.11/site-packages/pandas/core/series.py:246: ComplexWarning: Casting complex values to real discards the imaginary part\n",
      "  return converter(self.iloc[0])\n",
      "/Users/hyunseongkim/miniconda3/envs/quantum_computer/lib/python3.11/site-packages/pennylane/operation.py:736: UserWarning: The behaviour of operator hashing will be updated soon. Currently, each operator instance has a unique hash. Soon, an operator's hash will be determined by the combined hash of the name, wires, parameters and hyperparameters of the operator. To continue using operator hashing in its current state, wrap the operator inside a qml.queuing.WrappedObj instance.\n",
      "  warnings.warn(\n",
      "/var/folders/wv/cwvgxcp14lxcs5jn0r6p87sr0000gn/T/ipykernel_3761/2560622970.py:2: UserWarning: Matplotlib is currently using module://matplotlib_inline.backend_inline, which is a non-GUI backend, so cannot show the figure.\n",
      "  fig.show()\n"
     ]
    },
    {
     "data": {
      "image/png": "[encoded data removed]",
      "text/plain": [
       "<Figure size 1200x500 with 1 Axes>"
      ]
     },
     "metadata": {},
     "output_type": "display_data"
    }
   ],
   "source": [
    "fig, ax = qml.draw_mpl(evolve_hamiltonian)(hamiltonian, max_cliques, t)\n",
    "fig.show()"
   ]
  },
  {
   "cell_type": "code",
   "execution_count": 21,
   "metadata": {},
   "outputs": [
    {
     "name": "stdout",
     "output_type": "stream",
     "text": [
      "Failed\n"
     ]
    },
    {
     "name": "stderr",
     "output_type": "stream",
     "text": [
      "/var/folders/wv/cwvgxcp14lxcs5jn0r6p87sr0000gn/T/ipykernel_3761/3913154599.py:12: FutureWarning: Calling float on a single element Series is deprecated and will raise a TypeError in the future. Use float(ser.iloc[0]) instead\n",
      "  m0 = evolve_circuit(p,i%wires, float(coef),t,\n"
     ]
    },
    {
     "data": {
      "text/plain": [
       "array(-1.48155163)"
      ]
     },
     "execution_count": 21,
     "metadata": {},
     "output_type": "execute_result"
    }
   ],
   "source": [
    "evolve_hamiltonian(hamiltonian, max_cliques, t)"
   ]
  },
  {
   "cell_type": "code",
   "execution_count": 22,
   "metadata": {},
   "outputs": [
    {
     "name": "stdout",
     "output_type": "stream",
     "text": [
      "Failed\n",
      "Failed\n",
      "Failed\n",
      "Failed\n",
      "Failed\n",
      "Failed\n",
      "Failed\n",
      "Failed\n",
      "Failed\n",
      "Failed\n",
      "Failed\n",
      "Failed\n",
      "Failed\n",
      "Failed\n",
      "Failed\n",
      "Failed\n",
      "Failed\n",
      "Failed\n",
      "Failed\n",
      "Failed\n",
      "Failed\n",
      "Failed\n",
      "Failed\n",
      "Failed\n",
      "Failed\n",
      "Failed\n",
      "Failed\n",
      "Failed\n",
      "Failed\n",
      "Failed\n"
     ]
    },
    {
     "name": "stderr",
     "output_type": "stream",
     "text": [
      "/var/folders/wv/cwvgxcp14lxcs5jn0r6p87sr0000gn/T/ipykernel_3761/3913154599.py:12: FutureWarning: Calling float on a single element Series is deprecated and will raise a TypeError in the future. Use float(ser.iloc[0]) instead\n",
      "  m0 = evolve_circuit(p,i%wires, float(coef),t,\n",
      "/Users/hyunseongkim/miniconda3/envs/quantum_computer/lib/python3.11/site-packages/pandas/core/series.py:246: ComplexWarning: Casting complex values to real discards the imaginary part\n",
      "  return converter(self.iloc[0])\n",
      "/Users/hyunseongkim/miniconda3/envs/quantum_computer/lib/python3.11/site-packages/pennylane/operation.py:736: UserWarning: The behaviour of operator hashing will be updated soon. Currently, each operator instance has a unique hash. Soon, an operator's hash will be determined by the combined hash of the name, wires, parameters and hyperparameters of the operator. To continue using operator hashing in its current state, wrap the operator inside a qml.queuing.WrappedObj instance.\n",
      "  warnings.warn(\n"
     ]
    }
   ],
   "source": [
    "for i in range(30):\n",
    "    evolve_hamiltonian(hamiltonian, max_cliques, t)"
   ]
  },
  {
   "cell_type": "code",
   "execution_count": null,
   "metadata": {},
   "outputs": [],
   "source": []
  }
 ],
 "metadata": {
  "kernelspec": {
   "display_name": "quantum_computing",
   "language": "python",
   "name": "python3"
  },
  "language_info": {
   "codemirror_mode": {
    "name": "ipython",
    "version": 3
   },
   "file_extension": ".py",
   "mimetype": "text/x-python",
   "name": "python",
   "nbconvert_exporter": "python",
   "pygments_lexer": "ipython3",
   "version": "3.11.4"
  }
 },
 "nbformat": 4,
 "nbformat_minor": 2
}
