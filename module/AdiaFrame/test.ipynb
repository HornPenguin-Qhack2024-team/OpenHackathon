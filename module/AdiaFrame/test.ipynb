{
 "cells": [
  {
   "cell_type": "code",
   "execution_count": null,
   "metadata": {},
   "outputs": [],
   "source": [
    "!pip install networkx pennylane pandas matplotlib"
   ]
  },
  {
   "cell_type": "code",
   "execution_count": 1,
   "metadata": {},
   "outputs": [
    {
     "name": "stderr",
     "output_type": "stream",
     "text": [
      "C:\\Users\\qwqwh\\AppData\\Local\\Temp\\ipykernel_26380\\3264592380.py:4: DeprecationWarning: \n",
      "Pyarrow will become a required dependency of pandas in the next major release of pandas (pandas 3.0),\n",
      "(to allow more performant data types, such as the Arrow string type, and better interoperability with other libraries)\n",
      "but was not found to be installed on your system.\n",
      "If this would cause problems for you,\n",
      "please provide us feedback at https://github.com/pandas-dev/pandas/issues/54466\n",
      "        \n",
      "  import pandas as pd\n"
     ]
    }
   ],
   "source": [
    "import networkx\n",
    "import networks as nx\n",
    "import numpy as np\n",
    "import pandas as pd\n",
    "import matplotlib.pyplot as plt\n",
    "\n",
    "from adiaframe import Hamiltonian\n",
    "from adiaframe import utils_c as uc"
   ]
  },
  {
   "cell_type": "code",
   "execution_count": null,
   "metadata": {},
   "outputs": [],
   "source": [
    "#Build your custom Hamiltonian with\n",
    "\n",
    "H = #np.array(...) 2D matrix\n",
    "hamiltonian = Hamiltonian(H, commute_map=True)\n",
    "# or \n",
    "# pauli_sample = {\"Pstring\": coefficient, ...}\n",
    "# H = Hamiltonian.p_poly_to_H(pauli_sample)\n",
    "# hamiltonian = Hamiltonian(H, pauli_basis=pauli_sample, commute_map=True)"
   ]
  },
  {
   "cell_type": "code",
   "execution_count": null,
   "metadata": {},
   "outputs": [],
   "source": [
    "# See Pauli term and their coefficient:\n",
    "hamiltonian.local_decomposition.tail(10)"
   ]
  },
  {
   "cell_type": "markdown",
   "metadata": {},
   "source": [
    "The below properties are automatically generated."
   ]
  },
  {
   "cell_type": "code",
   "execution_count": null,
   "metadata": {},
   "outputs": [],
   "source": [
    "hamiltonian.commute_map"
   ]
  },
  {
   "cell_type": "code",
   "execution_count": null,
   "metadata": {},
   "outputs": [],
   "source": [
    "hamiltonian.graph_edge"
   ]
  },
  {
   "cell_type": "code",
   "execution_count": null,
   "metadata": {},
   "outputs": [],
   "source": [
    "# See Latin matrix\n",
    "fig, ax = plt.subplots(1,1, figsize=(10, 10))\n",
    "ax.spy(hamiltonian.latin_matrix, markersize=10)\n",
    "ax.set_xlabel(\"Z family\")\n",
    "ax.xaxis.set_label_position('top') \n",
    "ax.set_ylabel(\"X family\")"
   ]
  },
  {
   "cell_type": "code",
   "execution_count": null,
   "metadata": {},
   "outputs": [],
   "source": [
    "qubit = hamiltonian.qubit_num # number of qubits"
   ]
  },
  {
   "cell_type": "code",
   "execution_count": null,
   "metadata": {},
   "outputs": [],
   "source": [
    "from adiaframe import graph_op"
   ]
  },
  {
   "cell_type": "code",
   "execution_count": null,
   "metadata": {},
   "outputs": [],
   "source": [
    "G_b = graph_op.get_binary_graph(hamiltonian) # get commuting graph"
   ]
  },
  {
   "cell_type": "code",
   "execution_count": null,
   "metadata": {},
   "outputs": [],
   "source": [
    "from copy import deepcopy\n",
    "from networkx.algorithms.approximation import max_clique \n",
    "# It only works for binary graph indicating commuting map."
   ]
  },
  {
   "cell_type": "code",
   "execution_count": null,
   "metadata": {},
   "outputs": [],
   "source": [
    "g_classic = deepcopy(G_b)\n",
    "max_cliques = []\n",
    "while len(g_classic.nodes) >0:\n",
    "    clique = max_clique(g_classic)\n",
    "    max_cliques.append(clique)\n",
    "    for node in clique:\n",
    "        g_classic.remove_node(node)"
   ]
  },
  {
   "cell_type": "code",
   "execution_count": null,
   "metadata": {},
   "outputs": [],
   "source": [
    "print(\"Classic Clique solver:\")\n",
    "print(\"Partition:\", len(max_cliques))\n",
    "for c in max_cliques:\n",
    "    print(len(c), end=\", \")\n",
    "print(\"============================================\")\n",
    "for c in max_cliques:\n",
    "    print(c)"
   ]
  }
 ],
 "metadata": {
  "kernelspec": {
   "display_name": "quantum_computing",
   "language": "python",
   "name": "python3"
  },
  "language_info": {
   "codemirror_mode": {
    "name": "ipython",
    "version": 3
   },
   "file_extension": ".py",
   "mimetype": "text/x-python",
   "name": "python",
   "nbconvert_exporter": "python",
   "pygments_lexer": "ipython3",
   "version": "3.11.7"
  }
 },
 "nbformat": 4,
 "nbformat_minor": 2
}
