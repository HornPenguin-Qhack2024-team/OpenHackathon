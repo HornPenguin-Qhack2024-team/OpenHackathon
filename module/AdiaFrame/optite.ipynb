{
 "cells": [
  {
   "cell_type": "code",
   "execution_count": 2,
   "metadata": {},
   "outputs": [],
   "source": [
    "from adiaframe.utils import *\n",
    "from adiaframe import Hamiltonian"
   ]
  },
  {
   "cell_type": "code",
   "execution_count": 3,
   "metadata": {},
   "outputs": [],
   "source": [
    "import pennylane as qml\n",
    "import numpy as np\n",
    "\n",
    "from adiaframe.utils import xz_fam_code_add, xz_fam_code_to_pstr, commute_reggio\n"
   ]
  },
  {
   "cell_type": "code",
   "execution_count": 89,
   "metadata": {},
   "outputs": [],
   "source": [
    "class PFrame:\n",
    "    # Schmitz et al, \n",
    "    # Optimization at the Interface of Unitary and \n",
    "    # Non-unitary Quantum Operations in PCOAST,\n",
    "    \n",
    "    def __init__(self, n:int):\n",
    "        assert n>0 and isinstance(n, int), \"n must be a positive integer.\"\n",
    "        self.n = n\n",
    "        num = 1\n",
    "        frame = []\n",
    "        for i in range(n):\n",
    "            frame.append([[0, num], [num, 0]])\n",
    "            num *= 2\n",
    "        self.frame = frame\n",
    "        self.wire_depth = self.n * [0]\n",
    "        self.gate_log = []\n",
    "    def supp(self, p):\n",
    "        num = 0\n",
    "        for r in self.frame:\n",
    "            s, sd = r\n",
    "            a  = not commute_reggio(s, p)\n",
    "            b  = not commute_reggio(sd, p)\n",
    "            num+=int(a|b)\n",
    "        return num\n",
    "        \n",
    "    @property\n",
    "    def str_frame(self):\n",
    "        frame = []\n",
    "        for r in self.frame:\n",
    "            si, sdi = r\n",
    "            frame.append([xz_fam_code_to_pstr(si,self.n), xz_fam_code_to_pstr(sdi,self.n)])\n",
    "        return frame\n",
    "    def reset_gate_log(self):\n",
    "        self.gate_log = []\n",
    "    def to_pennylane_circuit(self, replace_rz:None):\n",
    "        pass\n",
    "    def CX(self, i, j):\n",
    "        s_i, sd_i = self.frame[i]\n",
    "        s_j, sd_j = self.frame[j]\n",
    "        \n",
    "        s_j_new = xz_fam_code_add(s_j, s_i)\n",
    "        sd_i_new = xz_fam_code_add(sd_i, sd_j)\n",
    "        self.frame[i] = [s_i, sd_i_new]\n",
    "        self.frame[j] = [s_j_new, sd_j]\n",
    "        \n",
    "        self.gate_log.append([\"cx\", i, j])\n",
    "        self.wire_depth[i] += 1\n",
    "        self.wire_depth[j] += 1\n",
    "    def SWAP(self, i, j):\n",
    "        nr = self.frame[j]\n",
    "        self.frame[j] = self.frame[i]\n",
    "        self.frame[i] = nr\n",
    "        \n",
    "        self.gate_log.append([\"swap\", i, j])\n",
    "        self.wire_depth[i] += 1\n",
    "        self.wire_depth[j] += 1\n",
    "    def H(self, i):\n",
    "        s_i, sd_i = self.frame[i]\n",
    "        self.frame[i] = [sd_i, s_i]\n",
    "        self.gate_log.append([\"h\", i])\n",
    "    def S(self, i):\n",
    "        s_i, sd_i = self.frame[i]\n",
    "        self.frame[i] = [s_i,  xz_fam_code_add(s_i, sd_i)]\n",
    "        self.gate_log.append([\"s\", i])\n",
    "    def Sd(self, i):\n",
    "        s_i, sd_i = self.frame[i]\n",
    "        self.frame[i] = [s_i,  xz_fam_code_add(s_i, sd_i)]\n",
    "        self.gate_log.append([\"sd\", i])\n",
    "    \n",
    "    def U_mark(self, i):\n",
    "        self.gate_log.append([\"um\", i])"
   ]
  },
  {
   "cell_type": "code",
   "execution_count": 90,
   "metadata": {},
   "outputs": [],
   "source": [
    "# Z family : first consideration.\n",
    "# 1. start "
   ]
  },
  {
   "cell_type": "markdown",
   "metadata": {},
   "source": [
    "0 0 0| 0\n",
    "0 1 1| 1\n",
    "1 0 1| 0\n",
    "1 1 0| 1\n",
    "\n",
    "(a^b)^a == b"
   ]
  },
  {
   "cell_type": "code",
   "execution_count": 91,
   "metadata": {},
   "outputs": [
    {
     "data": {
      "text/plain": [
       "[[[0, 1], [1, 0]],\n",
       " [[0, 2], [2, 0]],\n",
       " [[0, 4], [4, 0]],\n",
       " [[0, 8], [8, 0]],\n",
       " [[0, 16], [16, 0]]]"
      ]
     },
     "execution_count": 91,
     "metadata": {},
     "output_type": "execute_result"
    }
   ],
   "source": [
    "pframe = PFrame(5)\n",
    "pframe.frame"
   ]
  },
  {
   "cell_type": "code",
   "execution_count": 92,
   "metadata": {},
   "outputs": [
    {
     "data": {
      "text/plain": [
       "[['IIIIZ', 'IIIIX'],\n",
       " ['IIIZI', 'IIIXI'],\n",
       " ['IIZII', 'IIXII'],\n",
       " ['IZIII', 'IXIII'],\n",
       " ['ZIIII', 'XIIII']]"
      ]
     },
     "execution_count": 92,
     "metadata": {},
     "output_type": "execute_result"
    }
   ],
   "source": [
    "pframe.str_frame"
   ]
  },
  {
   "cell_type": "code",
   "execution_count": 93,
   "metadata": {},
   "outputs": [],
   "source": [
    "pframe.CX(0, 3)\n",
    "pframe.H(0)\n",
    "pframe.S(0)\n",
    "pframe.SWAP(2, 4)"
   ]
  },
  {
   "cell_type": "code",
   "execution_count": 94,
   "metadata": {},
   "outputs": [
    {
     "data": {
      "text/plain": [
       "[[[9, 0], [9, 1]],\n",
       " [[0, 2], [2, 0]],\n",
       " [[0, 16], [16, 0]],\n",
       " [[0, 9], [8, 0]],\n",
       " [[0, 4], [4, 0]]]"
      ]
     },
     "execution_count": 94,
     "metadata": {},
     "output_type": "execute_result"
    }
   ],
   "source": [
    "pframe.frame"
   ]
  },
  {
   "cell_type": "code",
   "execution_count": 95,
   "metadata": {},
   "outputs": [
    {
     "data": {
      "text/plain": [
       "[['IXIIX', 'IXIIY'],\n",
       " ['IIIZI', 'IIIXI'],\n",
       " ['ZIIII', 'XIIII'],\n",
       " ['IZIIZ', 'IXIII'],\n",
       " ['IIZII', 'IIXII']]"
      ]
     },
     "execution_count": 95,
     "metadata": {},
     "output_type": "execute_result"
    }
   ],
   "source": [
    "pframe.str_frame"
   ]
  },
  {
   "cell_type": "code",
   "execution_count": 98,
   "metadata": {},
   "outputs": [
    {
     "data": {
      "text/plain": [
       "3"
      ]
     },
     "execution_count": 98,
     "metadata": {},
     "output_type": "execute_result"
    }
   ],
   "source": [
    "pframe.supp((3, 2))"
   ]
  },
  {
   "cell_type": "code",
   "execution_count": 103,
   "metadata": {},
   "outputs": [
    {
     "data": {
      "text/plain": [
       "3"
      ]
     },
     "execution_count": 103,
     "metadata": {},
     "output_type": "execute_result"
    }
   ],
   "source": [
    "pframe.supp((2, 5))"
   ]
  },
  {
   "cell_type": "code",
   "execution_count": 102,
   "metadata": {},
   "outputs": [
    {
     "data": {
      "text/plain": [
       "'IIZXZ'"
      ]
     },
     "execution_count": 102,
     "metadata": {},
     "output_type": "execute_result"
    }
   ],
   "source": [
    "xz_fam_code_to_pstr((2, 5), 5)"
   ]
  },
  {
   "cell_type": "code",
   "execution_count": null,
   "metadata": {},
   "outputs": [],
   "source": []
  },
  {
   "cell_type": "code",
   "execution_count": null,
   "metadata": {},
   "outputs": [],
   "source": []
  },
  {
   "cell_type": "code",
   "execution_count": null,
   "metadata": {},
   "outputs": [],
   "source": []
  },
  {
   "cell_type": "code",
   "execution_count": null,
   "metadata": {},
   "outputs": [],
   "source": []
  }
 ],
 "metadata": {
  "kernelspec": {
   "display_name": "quantum_computing",
   "language": "python",
   "name": "python3"
  },
  "language_info": {
   "codemirror_mode": {
    "name": "ipython",
    "version": 3
   },
   "file_extension": ".py",
   "mimetype": "text/x-python",
   "name": "python",
   "nbconvert_exporter": "python",
   "pygments_lexer": "ipython3",
   "version": "3.11.7"
  }
 },
 "nbformat": 4,
 "nbformat_minor": 2
}
